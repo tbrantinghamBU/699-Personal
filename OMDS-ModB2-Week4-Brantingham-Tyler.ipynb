{
 "cells": [
  {
   "cell_type": "markdown",
   "id": "4441d563-75a4-4c32-b1e7-2c229477ca1c",
   "metadata": {},
   "source": [
    "# Week 4 - Univariate Analysis, part 2"
   ]
  },
  {
   "cell_type": "markdown",
   "id": "98e23199-b611-403a-b843-2369d14d29bd",
   "metadata": {
    "jp-MarkdownHeadingCollapsed": true
   },
   "source": [
    "# 1. Lesson - None"
   ]
  },
  {
   "cell_type": "markdown",
   "id": "35a7a0ae-f55f-455f-a951-478605b5e192",
   "metadata": {},
   "source": [
    "# 2. Weekly graph question"
   ]
  },
  {
   "cell_type": "markdown",
   "id": "6807d39d-413e-4ce2-9281-3dd73eda198f",
   "metadata": {},
   "source": [
    "Below are a histogram and boxplot representation of the same data. A pharmacy is keeping a record of the prices of the drugs that it sells, and an administrator wants to know how much the more expensive drugs tend to cost, in the context of the other prices.\n",
    "\n",
    "Please write a short explanation of the pros and cons of these two representations. Which would you choose? How would you modify the formatting, if at all, to make it more visually interesting, clear, or informative?"
   ]
  },
  {
   "cell_type": "code",
   "execution_count": 1,
   "id": "1888593e-817d-4148-954d-5d156593bd8d",
   "metadata": {},
   "outputs": [],
   "source": [
    "import numpy as np\n",
    "import pandas as pd\n",
    "\n",
    "np.random.seed(0)\n",
    "num_data = 100\n",
    "data = np.exp(np.random.uniform(size = num_data) * 4)\n",
    "df = pd.DataFrame(data.T, columns = [\"data\"])"
   ]
  },
  {
   "cell_type": "code",
   "execution_count": 2,
   "id": "13745ab1-8a9b-4568-bf56-3245fa36a358",
   "metadata": {},
   "outputs": [
    {
     "name": "stdout",
     "output_type": "stream",
     "text": [
      "The 75th percentile is: data    15.457656\n",
      "Name: 0.75, dtype: float64\n"
     ]
    },
    {
     "data": {
      "text/plain": [
       "<Axes: ylabel='Frequency'>"
      ]
     },
     "execution_count": 2,
     "metadata": {},
     "output_type": "execute_result"
    },
    {
     "data": {
      "image/png": "[encoded data removed]",
      "text/plain": [
       "<Figure size 640x480 with 1 Axes>"
      ]
     },
     "metadata": {},
     "output_type": "display_data"
    }
   ],
   "source": [
    "print(\"The 75th percentile is:\", df.quantile(q = 0.75))\n",
    "df.plot.hist()"
   ]
  },
  {
   "cell_type": "code",
   "execution_count": 3,
   "id": "d4dbce72-bd33-43a2-b3e7-354a1cca6e39",
   "metadata": {},
   "outputs": [
    {
     "data": {
      "text/plain": [
       "<Axes: >"
      ]
     },
     "execution_count": 3,
     "metadata": {},
     "output_type": "execute_result"
    },
    {
     "data": {
      "image/png": "[encoded data removed]",
      "text/plain": [
       "<Figure size 640x480 with 1 Axes>"
      ]
     },
     "metadata": {},
     "output_type": "display_data"
    }
   ],
   "source": [
    "df.plot.box()"
   ]
  },
  {
   "cell_type": "markdown",
   "id": "2bc6b048",
   "metadata": {},
   "source": [
    "I don't find either plot particularly engaging for answering the original question. Both visuals lack significant context without titles, axes, or visuals that clearly highlight high priced drugs.I find the histogram slightly better as you can clearly see the long tail of expensive drugs and the high frequency of drugs under $15. The box plot does show the outliers but they overlap and it's difficult to see the frequency across the population."
   ]
  },
  {
   "cell_type": "markdown",
   "id": "ab830464-2f92-4281-a2d3-474ffd26d1c7",
   "metadata": {},
   "source": [
    "# 3. Homework - working on your datasets"
   ]
  },
  {
   "cell_type": "markdown",
   "id": "e892ba10-7f81-4330-9863-73f65fbdc4bd",
   "metadata": {},
   "source": [
    "This week, you will do the same types of exercises as last week, but you should use your chosen datasets that someone in your class found last semester. (They likely will not be the particular datasets that you found yourself.)\n",
    "\n",
    "### Here are some types of analysis you can do:\n",
    "\n",
    "- Draw histograms and histogram variants for each feature or column.  (Swarm plot, kde plot, violin plot).\n",
    "\n",
    "- Draw grouped histograms.  For instance, if you have tree heights for both maple and oak trees, you could draw histograms for both.\n",
    "\n",
    "- Draw a bar plot to indicate total counts of each categorical variable in a given column.\n",
    "\n",
    "- Find means, medians, and modes.\n",
    "\n",
    "### Conclusions:\n",
    "\n",
    "- Explain what conclusions you would draw from this analysis: are the data what you expect?  Are the data likely to be usable?  If they are not useable, find some new data!\n",
    "\n",
    "- What is the overall shape of the distribution?  Is it normal, skewed, bimodal, uniform, etc.?\n",
    "\n",
    "- Are there any outliers present?  (Data points that are far from the others.)\n",
    "\n",
    "- If there are multiple related histograms, how does the distribution change across different groups?\n",
    "\n",
    "- What are the minimum and maximum values represented in each histogram?\n",
    "\n",
    "- How do bin sizes affect the histogram?  Does changing the bin width reveal different patterns in the data?\n",
    "\n",
    "- Does the distribution appear normal, or does it have a different distribution?"
   ]
  },
  {
   "cell_type": "code",
   "execution_count": 4,
   "id": "8381d082",
   "metadata": {},
   "outputs": [],
   "source": [
    "import pandas as pd\n",
    "import matplotlib.pyplot as plt\n",
    "import seaborn as sns\n",
    "import numpy as np\n",
    "from scipy import stats\n",
    "import os\n",
    "from fpdf import FPDF\n",
    "from datetime import datetime\n",
    "from matplotlib.backends.backend_pdf import PdfPages"
   ]
  },
  {
   "cell_type": "code",
   "execution_count": 5,
   "id": "5e604767",
   "metadata": {},
   "outputs": [
    {
     "name": "stdout",
     "output_type": "stream",
     "text": [
      "Dataset 'priceline_clean.csv' loaded successfully.\n"
     ]
    }
   ],
   "source": [
    "'''PICK A DATASET'''\n",
    "\n",
    "# CHOOSE A DATASET TO RUN\n",
    "# 1 = Priceline\n",
    "# 2 = Delay Data\n",
    "# 3 = USDOT Ontime\n",
    "\n",
    "ds = 1\n",
    "\n",
    "if ds == 1:\n",
    "    fname = \"priceline_clean.csv\"\n",
    "    dataset_name = \"priceline\"\n",
    "elif ds == 2:\n",
    "    fname = \"delay_data_clean.csv\"\n",
    "    dataset_name = \"delay\"\n",
    "elif ds == 3:\n",
    "    fname = \"usdot_onetime_clean.csv\"\n",
    "    dataset_name = \"usdot\"\n",
    "else:\n",
    "    fname = None\n",
    "    print(\"No dataset selected\")\n",
    "\n",
    "if fname and os.path.exists(fname):\n",
    "    df = pd.read_csv(fname)\n",
    "    print(f\"Dataset '{fname}' loaded successfully.\")\n",
    "else:\n",
    "    print(f\"File '{fname}' does not exist.\")\n"
   ]
  },
  {
   "cell_type": "code",
   "execution_count": 16,
   "id": "ef261694",
   "metadata": {},
   "outputs": [],
   "source": [
    "# Function to calculate summary stats\n",
    "def calculate_statistics(column):\n",
    "    non_null_count = df[column].count()\n",
    "    unique_count = df[column].nunique()\n",
    "    mean = df[column].mean()\n",
    "    median = df[column].median()\n",
    "    mode = df[column].mode().values[0] if not df[column].mode().empty else np.nan\n",
    "    std_dev = df[column].std()\n",
    "    variance = df[column].var()\n",
    "    minimum = df[column].min()\n",
    "    maximum = df[column].max()\n",
    "    value_range = maximum - minimum\n",
    "    \n",
    "    return {\n",
    "        'non_null_count': non_null_count,\n",
    "        'unique_count': unique_count,\n",
    "        'mean': mean,\n",
    "        'median': median,\n",
    "        'mode': mode,\n",
    "        'std_dev': std_dev,\n",
    "        'variance': variance,\n",
    "        'min': minimum,\n",
    "        'max': maximum,\n",
    "        'range': value_range\n",
    "    }\n",
    "\n",
    "def generate_plots(df, sample_amt, output_to_pdf, ds_name):\n",
    "    # Get current timestamp for the PDF filename\n",
    "    timestamp = datetime.now().strftime(\"%Y%m%d_%H%M%S\")\n",
    "    pdf_filename = f\"output/statistics_plots_{ds_name}_{timestamp}.pdf\"\n",
    "    \n",
    "    if output_to_pdf:\n",
    "        pdf_pages = PdfPages(pdf_filename)\n",
    "        \n",
    "        # Add title page\n",
    "        fig, ax = plt.subplots(figsize=(10, 6))\n",
    "        ax.axis('off')\n",
    "        title_text = f\"Variable Analysis of the {ds_name} Dataset\"\n",
    "        ax.text(0.5, 0.5, title_text, ha='center', va='center', fontsize=24, fontweight='bold')\n",
    "        pdf_pages.savefig(fig)\n",
    "        plt.close(fig)\n",
    "    \n",
    "    # Iterate over each numeric column\n",
    "    for column in df.select_dtypes(include=[np.number]).columns:\n",
    "        stats = calculate_statistics(column)\n",
    "        \n",
    "        if output_to_pdf:\n",
    "            # Create a new figure for each column's statistics\n",
    "            fig, ax = plt.subplots(figsize=(10, 6))\n",
    "            ax.axis('off')\n",
    "            text = f\"Statistics for {column}:\\n\"\n",
    "            text += f\"Count Non Nulls: {stats['non_null_count']}\\n\"\n",
    "            text += f\"Count Unique: {stats['unique_count']}\\n\"\n",
    "            text += f\"Mean: {stats['mean']:.1f}\\n\"\n",
    "            text += f\"Median: {stats['median']:.1f}\\n\"\n",
    "            text += f\"Mode: {stats['mode']:.1f}\\n\"\n",
    "            text += f\"Standard Deviation: {stats['std_dev']:.1f}\\n\"\n",
    "            text += f\"Variance: {stats['variance']:.1f}\\n\"\n",
    "            text += f\"Minimum: {stats['min']:.1f}\\n\"\n",
    "            text += f\"Maximum: {stats['max']:.1f}\\n\"\n",
    "            text += f\"Range: {stats['range']:.1f}\\n\"\n",
    "            ax.text(0.5, 0.5, text, ha='center', va='center', fontsize=12)\n",
    "            pdf_pages.savefig(fig)\n",
    "            plt.close(fig)\n",
    "        else:\n",
    "            print(f\"Statistics for {column}:\")\n",
    "            print(f\"Count Non Nulls: {stats['non_null_count']}\")\n",
    "            print(f\"Count Unique: {stats['unique_count']}\")\n",
    "            print(f\"Mean: {stats['mean']:.1f}\")\n",
    "            print(f\"Median: {stats['median']:.1f}\")\n",
    "            print(f\"Mode: {stats['mode']:.1f}\")\n",
    "            print(f\"Standard Deviation: {stats['std_dev']:.1f}\")\n",
    "            print(f\"Variance: {stats['variance']:.1f}\")\n",
    "            print(f\"Minimum: {stats['min']:.1f}\")\n",
    "            print(f\"Maximum: {stats['max']:.1f}\")\n",
    "            print(f\"Range: {stats['range']:.1f}\\n\")\n",
    "        \n",
    "        # Histogram\n",
    "        plt.figure(figsize=(10, 6))\n",
    "        sns.histplot(df[column], kde=False)\n",
    "        plt.title(f'Histogram of {column}')\n",
    "        plt.xlabel(column)\n",
    "        plt.ylabel('Frequency')\n",
    "        if output_to_pdf:\n",
    "            pdf_pages.savefig()\n",
    "            plt.close()\n",
    "        else:\n",
    "            plt.show()\n",
    "        \n",
    "        # KDE plot\n",
    "        plt.figure(figsize=(10, 6))\n",
    "        sns.kdeplot(df[column], fill=True)\n",
    "        plt.title(f'KDE Plot of {column}')\n",
    "        plt.xlabel(column)\n",
    "        plt.ylabel('Density')\n",
    "        if output_to_pdf:\n",
    "            pdf_pages.savefig()\n",
    "            plt.close()\n",
    "        else:\n",
    "            plt.show()\n",
    "        \n",
    "        # Violin plot\n",
    "        plt.figure(figsize=(10, 6))\n",
    "        sns.violinplot(x=df[column])\n",
    "        plt.title(f'Violin Plot of {column}')\n",
    "        plt.xlabel(column)\n",
    "        if output_to_pdf:\n",
    "            pdf_pages.savefig()\n",
    "            plt.close()\n",
    "        else:\n",
    "            plt.show()\n",
    "        \n",
    "        # Swarm plot\n",
    "        plt.figure(figsize=(10, 6))\n",
    "        sns.swarmplot(x=df[column].sample(n=sample_amt), size=3)\n",
    "        plt.title(f'Swarm Plot of {column}')\n",
    "        plt.xlabel(column)\n",
    "        if output_to_pdf:\n",
    "            pdf_pages.savefig()\n",
    "            plt.close()\n",
    "        else:\n",
    "            plt.show()\n",
    "    \n",
    "    if output_to_pdf:\n",
    "        pdf_pages.close()\n",
    "        print(f\"PDF saved as {pdf_filename}\")\n",
    "\n",
    "# Example usage\n",
    "# generate_plots(df, sample_amt=100, output_to_pdf=True, ds_name='Ames Housing')  # Save to PDF\n",
    "# generate_plots(df, sample_amt=100, output_to_pdf=False, ds_name='Ames Housing') # Print and show plots\n"
   ]
  },
  {
   "cell_type": "code",
   "execution_count": 17,
   "id": "eabd5ace",
   "metadata": {},
   "outputs": [
    {
     "name": "stderr",
     "output_type": "stream",
     "text": [
      "C:\\Users\\tyler.brantingham\\AppData\\Local\\Packages\\PythonSoftwareFoundation.Python.3.12_qbz5n2kfra8p0\\LocalCache\\local-packages\\Python312\\site-packages\\seaborn\\categorical.py:3399: UserWarning: 80.3% of the points cannot be placed; you may want to decrease the size of the markers or use stripplot.\n",
      "  warnings.warn(msg, UserWarning)\n"
     ]
    },
    {
     "name": "stdout",
     "output_type": "stream",
     "text": [
      "PDF saved as output/statistics_plots_priceline_20250615_210619.pdf\n"
     ]
    }
   ],
   "source": [
    "'''PRICE LINE DATASET'''\n",
    "fname = \"priceline_clean.csv\"\n",
    "dataset_name = \"priceline\"\n",
    "df = pd.read_csv(fname)\n",
    "\n",
    "n_samples = 1000\n",
    "generate_plots(df, sample_amt=n_samples,output_to_pdf=True, ds_name=dataset_name)"
   ]
  },
  {
   "cell_type": "code",
   "execution_count": null,
   "id": "d97727a9",
   "metadata": {},
   "outputs": [],
   "source": [
    "'''FLIGHT DELAY DATASET'''\n",
    "fname = \"delay_data_clean.csv\"\n",
    "dataset_name = \"delay\"\n",
    "df = pd.read_csv(fname)\n",
    "\n",
    "n_samples = 1000\n",
    "generate_plots(df, sample_amt=n_samples,output_to_pdf=True, ds_name=dataset_name)"
   ]
  },
  {
   "cell_type": "code",
   "execution_count": null,
   "id": "49be59fe",
   "metadata": {},
   "outputs": [],
   "source": [
    "'''USDOT ONTIME DATASET'''\n",
    "fname = \"usdot_onetime_clean.csv\"\n",
    "dataset_name = \"usdot\"\n",
    "df = pd.read_csv(fname)\n",
    "\n",
    "n_samples = 1000\n",
    "generate_plots(df, n_samples, True, dataset_name)"
   ]
  },
  {
   "cell_type": "markdown",
   "id": "a3f1934f-7ef3-4cbb-84bd-b27d93ba95d2",
   "metadata": {},
   "source": [
    "# 4. Storytelling With Data graph"
   ]
  },
  {
   "cell_type": "markdown",
   "id": "91ba396b-fc00-48ec-acc6-e026348536f6",
   "metadata": {},
   "source": [
    "Reproduce any graph of your choice in p. 52-68 of the Storytelling With Data book as best you can.  (The second half of chapter two).  You do not have to get the exact data values right, just the overall look and feel."
   ]
  },
  {
   "cell_type": "code",
   "execution_count": null,
   "id": "5a7e4b4b-977a-4b0e-bec2-1f34a514da44",
   "metadata": {},
   "outputs": [],
   "source": []
  }
 ],
 "metadata": {
  "kernelspec": {
   "display_name": "Python 3",
   "language": "python",
   "name": "python3"
  },
  "language_info": {
   "codemirror_mode": {
    "name": "ipython",
    "version": 3
   },
   "file_extension": ".py",
   "mimetype": "text/x-python",
   "name": "python",
   "nbconvert_exporter": "python",
   "pygments_lexer": "ipython3",
   "version": "3.12.10"
  }
 },
 "nbformat": 4,
 "nbformat_minor": 5
}
